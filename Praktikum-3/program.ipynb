{
 "cells": [
  {
   "cell_type": "code",
   "execution_count": null,
   "metadata": {},
   "outputs": [],
   "source": [
    "from ase import Atoms\n",
    "from ase.io.vasp import write_vasp, read_vasp\n",
    "from ase.visualize import view\n",
    "import os\n",
    "from ase.neb import NEB\n",
    "\n",
    "IS = read_vasp('CONTCAR1')\n",
    "FS = read_vasp('CONTCAR2')\n",
    "\n",
    "nimg = int(input(\"Number of images: \"))\n",
    "images = [IS]\n",
    "images += [IS.copy() for i in range(nimg)]\n",
    "images +=[FS]\n",
    "\n",
    "idpp = input(\"IDPP[y] or linear[n]: \")\n",
    "neb = NEB(images)\n",
    "if idpp == 'y' or 'Y':\n",
    "    neb.interpolate('idpp',mic=True)\n",
    "else:\n",
    "    neb.interpolate(mic=True)\n",
    "\n",
    "for i in range (len(neb.images)):\n",
    "    os.system(\"mkdir 0\"+str(i))\n",
    "    write_vasp('POSCAR',neb.images[i],direct=True,long_format=True,vasp5=True,ignore_constraints=False,wrap=False)\n",
    "    os.system(\"mv POSCAR 0\"+str(i)+\"/.\")"
   ]
  }
 ],
 "metadata": {
  "language_info": {
   "name": "python"
  }
 },
 "nbformat": 4,
 "nbformat_minor": 2
}
